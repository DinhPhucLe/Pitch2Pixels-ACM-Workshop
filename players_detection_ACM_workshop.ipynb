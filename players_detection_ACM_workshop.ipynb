{
  "nbformat": 4,
  "nbformat_minor": 0,
  "metadata": {
    "colab": {
      "provenance": [],
      "authorship_tag": "ABX9TyOlMEzzVthCFx+qxvhVtJsn",
      "include_colab_link": true
    },
    "kernelspec": {
      "name": "python3",
      "display_name": "Python 3"
    },
    "language_info": {
      "name": "python"
    }
  },
  "cells": [
    {
      "cell_type": "markdown",
      "metadata": {
        "id": "view-in-github",
        "colab_type": "text"
      },
      "source": [
        "<a href=\"https://colab.research.google.com/github/DinhPhucLe/Pitch2Pixels-ACM-Workshop/blob/master/players_detection_ACM_workshop.ipynb\" target=\"_parent\"><img src=\"https://colab.research.google.com/assets/colab-badge.svg\" alt=\"Open In Colab\"/></a>"
      ]
    },
    {
      "cell_type": "code",
      "execution_count": null,
      "metadata": {
        "id": "cHtbF_-HdY8k"
      },
      "outputs": [],
      "source": [
        "# Install ultralytics package and dependencies\n",
        "!pip install ultralytics"
      ]
    },
    {
      "cell_type": "code",
      "source": [
        "import zipfile\n",
        "import os\n",
        "\n",
        "# Unzip the uploaded dataset to folder \"dataset\"\n",
        "with zipfile.ZipFile(\"dataset-folder.zip\", \"r\") as zip_ref:\n",
        "    zip_ref.extractall(\"dataset\")"
      ],
      "metadata": {
        "id": "ro2rOQoZdnCM"
      },
      "execution_count": null,
      "outputs": []
    },
    {
      "cell_type": "code",
      "source": [
        "from ultralytics import YOLO\n",
        "\n",
        "# Import YOLOv8s model\n",
        "model = YOLO(\"yolov8s.pt\")\n",
        "\n",
        "# Train YOLOv8s model on the imported dataset\n",
        "model.train(\n",
        "    data=\"dataset/data.yaml\",\n",
        "    epochs=200,\n",
        "    batch=16,\n",
        "    imgsz=640,\n",
        "    lr0=0.01,\n",
        "    mosaic=1.0,\n",
        "    mixup=0.05,\n",
        "    augment=True,\n",
        "    val=True\n",
        ")"
      ],
      "metadata": {
        "id": "HjSVIwlcd3I_"
      },
      "execution_count": null,
      "outputs": []
    },
    {
      "cell_type": "code",
      "source": [
        "# Load the trained model\n",
        "model = YOLO(\"runs/detect/train/weights/best.pt\")\n",
        "\n",
        "# Run evaluation on the validation dataset\n",
        "model.val(data=\"dataset/data.yaml\")"
      ],
      "metadata": {
        "id": "vzjOKX1zeXjT"
      },
      "execution_count": null,
      "outputs": []
    }
  ]
}